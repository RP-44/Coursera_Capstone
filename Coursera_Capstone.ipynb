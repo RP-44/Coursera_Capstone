{
 "cells": [
  {
   "cell_type": "markdown",
   "id": "62c85bf8-0857-4091-8e6f-b63f990d4e3c",
   "metadata": {},
   "source": [
    "# Capstone project"
   ]
  },
  {
   "cell_type": "markdown",
   "id": "771ed2b0-6f1a-4abf-a590-0e2c5a826eb6",
   "metadata": {},
   "source": [
    "This notebook will be used mainly for the capstone project\n"
   ]
  },
  {
   "cell_type": "code",
   "execution_count": 2,
   "id": "c3c70424-66e6-48e6-b7c1-63f44ae3ad9f",
   "metadata": {},
   "outputs": [],
   "source": [
    "import pandas as pd\n",
    "import numpy as np"
   ]
  },
  {
   "cell_type": "code",
   "execution_count": 3,
   "id": "338c6b2f-af9c-4a9a-910d-7e395e36b128",
   "metadata": {},
   "outputs": [
    {
     "name": "stdout",
     "output_type": "stream",
     "text": [
      "Hello Capstone Project Course\n"
     ]
    }
   ],
   "source": [
    "print('Hello Capstone Project Course')"
   ]
  },
  {
   "cell_type": "code",
   "execution_count": null,
   "id": "a6243bf1-78bb-4803-80f4-a3c54ec1d2c9",
   "metadata": {},
   "outputs": [],
   "source": []
  }
 ],
 "metadata": {
  "kernelspec": {
   "display_name": "Python",
   "language": "python",
   "name": "conda-env-python-py"
  },
  "language_info": {
   "codemirror_mode": {
    "name": "ipython",
    "version": 3
   },
   "file_extension": ".py",
   "mimetype": "text/x-python",
   "name": "python",
   "nbconvert_exporter": "python",
   "pygments_lexer": "ipython3",
   "version": "3.6.13"
  }
 },
 "nbformat": 4,
 "nbformat_minor": 5
}
